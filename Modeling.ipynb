{
 "cells": [
  {
   "cell_type": "markdown",
   "metadata": {},
   "source": [
    "## https://www.kaggle.com/c/house-prices-advanced-regression-techniques"
   ]
  },
  {
   "cell_type": "markdown",
   "metadata": {},
   "source": [
    "# Links to each features"
   ]
  },
  {
   "cell_type": "markdown",
   "metadata": {},
   "source": [
    "Go to <a href=#baseline_model>baseline_model</a>"
   ]
  },
  {
   "cell_type": "markdown",
   "metadata": {},
   "source": [
    "Go to <a href=#first_modeling>first_modeling</a>"
   ]
  },
  {
   "cell_type": "markdown",
   "metadata": {},
   "source": [
    "Go to [label_encoding](#label_encoding)"
   ]
  },
  {
   "cell_type": "markdown",
   "metadata": {},
   "source": [
    "Go to [combine_two](#combine_two)"
   ]
  },
  {
   "cell_type": "markdown",
   "metadata": {},
   "source": [
    "Go to [get square and cubic](#sqcb)"
   ]
  },
  {
   "cell_type": "markdown",
   "metadata": {},
   "source": [
    "Go to [normalize](#normalize)"
   ]
  },
  {
   "cell_type": "markdown",
   "metadata": {},
   "source": [
    "Go to [modeling](#modeling)"
   ]
  },
  {
   "cell_type": "code",
   "execution_count": 162,
   "metadata": {},
   "outputs": [],
   "source": [
    "import pandas as pd\n",
    "import numpy as np\n",
    "\n",
    "# for plots\n",
    "import matplotlib.pyplot as plt\n",
    "import seaborn as sns\n",
    "import plotly.graph_objs as go\n",
    "import plotly.tools as tls\n",
    "from plotly.offline import iplot, init_notebook_mode\n",
    "import plotly.figure_factory as ff\n",
    "\n",
    "# for modeling\n",
    "import lightgbm as lgb\n",
    "from sklearn.model_selection import ShuffleSplit, train_test_split\n",
    "from sklearn.ensemble import RandomForestRegressor\n",
    "from sklearn.metrics import roc_auc_score, accuracy_score, confusion_matrix, mean_squared_error, mean_squared_log_error\n",
    "from sklearn.impute import SimpleImputer\n",
    "from operator import itemgetter\n",
    "from sklearn.preprocessing import LabelEncoder\n",
    "from sklearn.model_selection import StratifiedKFold\n",
    "from scipy.stats import chi2_contingency\n",
    "from tqdm import tqdm\n",
    "import itertools\n",
    "import warnings\n",
    "warnings.filterwarnings(action='once')"
   ]
  },
  {
   "cell_type": "code",
   "execution_count": 164,
   "metadata": {},
   "outputs": [
    {
     "name": "stderr",
     "output_type": "stream",
     "text": [
      "/Users/junseoklee/kaggle/IEEE-venv/lib/python3.7/site-packages/tqdm/std.py:658: FutureWarning:\n",
      "\n",
      "The Panel class is removed from pandas. Accessing it from the top-level namespace will also be removed in the next version\n",
      "\n"
     ]
    }
   ],
   "source": [
    "tqdm.pandas()"
   ]
  },
  {
   "cell_type": "code",
   "execution_count": 163,
   "metadata": {},
   "outputs": [],
   "source": [
    "tqdm._instances.clear()"
   ]
  },
  {
   "cell_type": "code",
   "execution_count": 88,
   "metadata": {},
   "outputs": [],
   "source": [
    "df = pd.read_csv('train.csv') #,dtype=df_dtypes  #df_dtypes at the bottom"
   ]
  },
  {
   "cell_type": "code",
   "execution_count": 89,
   "metadata": {},
   "outputs": [],
   "source": [
    "test = pd.read_csv('test.csv') #df_dtypes at the bottom"
   ]
  },
  {
   "cell_type": "markdown",
   "metadata": {},
   "source": [
    "# Data preprocessing"
   ]
  },
  {
   "cell_type": "markdown",
   "metadata": {},
   "source": [
    "## To get a baseline model, let's do basic data preprocessing"
   ]
  },
  {
   "cell_type": "markdown",
   "metadata": {},
   "source": [
    "- #### Drop the features whose missing data are more than 50% \n",
    "- #### One-hot-encoding for object features\n",
    "- #### Fill missing values with the mean of each feature"
   ]
  },
  {
   "cell_type": "code",
   "execution_count": 5,
   "metadata": {},
   "outputs": [],
   "source": [
    "def threshold_null_cols(df,threshold = 0.5):\n",
    "    null_cols = df.isnull().sum(axis=0)/len(df) > threshold\n",
    "    return list(null_cols[null_cols].keys())\n",
    "\n",
    "def drop_cols(df,col_name_list):\n",
    "    df1 = df.drop(col_name_list,axis='columns')\n",
    "    return df1\n",
    "\n",
    "def one_hot(df, dummy_na = False):\n",
    "    df1 = pd.get_dummies(df, dummy_na=dummy_na)\n",
    "    return df1\n",
    "\n",
    "def fill_na(df1,mean_mode = 'mean'):\n",
    "    if mean_mode == 'mode':\n",
    "        df1.fillna(df1.mode(),inplace = True)\n",
    "    df1.fillna(df1.mean(),inplace = True)"
   ]
  },
  {
   "cell_type": "code",
   "execution_count": 6,
   "metadata": {},
   "outputs": [],
   "source": [
    "df1 = one_hot( drop_cols(df, threshold_null_cols(df)  )  )"
   ]
  },
  {
   "cell_type": "code",
   "execution_count": 7,
   "metadata": {},
   "outputs": [],
   "source": [
    "fill_na(df1)"
   ]
  },
  {
   "cell_type": "code",
   "execution_count": 8,
   "metadata": {},
   "outputs": [
    {
     "data": {
      "text/plain": [
       "(1460, 277)"
      ]
     },
     "execution_count": 8,
     "metadata": {},
     "output_type": "execute_result"
    }
   ],
   "source": [
    "df1.shape"
   ]
  },
  {
   "cell_type": "code",
   "execution_count": 9,
   "metadata": {},
   "outputs": [],
   "source": [
    "test1 = one_hot( drop_cols(test, threshold_null_cols(test)  )  )"
   ]
  },
  {
   "cell_type": "code",
   "execution_count": 10,
   "metadata": {},
   "outputs": [],
   "source": [
    "fill_na(test1)"
   ]
  },
  {
   "cell_type": "code",
   "execution_count": 11,
   "metadata": {},
   "outputs": [
    {
     "data": {
      "text/plain": [
       "(1459, 255)"
      ]
     },
     "execution_count": 11,
     "metadata": {},
     "output_type": "execute_result"
    }
   ],
   "source": [
    "test1.shape"
   ]
  },
  {
   "cell_type": "markdown",
   "metadata": {},
   "source": [
    "<a id=\"baseline_model\"/>"
   ]
  },
  {
   "cell_type": "markdown",
   "metadata": {},
   "source": [
    "# Baseline Model"
   ]
  },
  {
   "cell_type": "markdown",
   "metadata": {},
   "source": [
    "## Let's get a baseline model with df1"
   ]
  },
  {
   "cell_type": "markdown",
   "metadata": {},
   "source": [
    "- ### I'll train with Random Forest Classifier and get a score using validation set (train:val = 0.8:0.2)"
   ]
  },
  {
   "cell_type": "code",
   "execution_count": 12,
   "metadata": {},
   "outputs": [],
   "source": [
    "def make_train_val(df, val_size = 0.2):\n",
    "    # Split the data into training and testing sets\n",
    "    train, val = train_test_split(df, test_size = val_size)\n",
    "    assert train.shape[0]+val.shape[0] == df.shape[0], 'data wrong'\n",
    "    assert train.shape[1] == val.shape[1], 'data wrong'\n",
    "    return train, val\n",
    "\n",
    "def make_XY(df, target, drop_cols = []):\n",
    "    dataX, dataY = df.drop([target]+drop_cols, axis=1), df[target]\n",
    "    return dataX, dataY"
   ]
  },
  {
   "cell_type": "code",
   "execution_count": 13,
   "metadata": {},
   "outputs": [],
   "source": [
    "target = 'SalePrice'\n",
    "cols = [col for col in df1.columns if (col in test1.columns) and (col != 'Id')]\n",
    "train, val = make_train_val(pd.concat([df1[cols],df[target]],axis=1))\n",
    "trainX, trainY = make_XY(train,target)\n",
    "valX, valY = make_XY(val,target)\n",
    "del train, val"
   ]
  },
  {
   "cell_type": "code",
   "execution_count": 14,
   "metadata": {},
   "outputs": [
    {
     "data": {
      "text/plain": [
       "RandomForestRegressor(bootstrap=True, ccp_alpha=0.0, criterion='mse',\n",
       "                      max_depth=10, max_features='auto', max_leaf_nodes=None,\n",
       "                      max_samples=None, min_impurity_decrease=0.0,\n",
       "                      min_impurity_split=None, min_samples_leaf=1,\n",
       "                      min_samples_split=2, min_weight_fraction_leaf=0.0,\n",
       "                      n_estimators=100, n_jobs=-1, oob_score=False,\n",
       "                      random_state=None, verbose=0, warm_start=False)"
      ]
     },
     "execution_count": 14,
     "metadata": {},
     "output_type": "execute_result"
    }
   ],
   "source": [
    "# Make the random forest classifier\n",
    "random_forest = RandomForestRegressor(n_estimators = 100,  max_depth=10, n_jobs=-1)\n",
    "# Train with the training data\n",
    "random_forest.fit(trainX, trainY)"
   ]
  },
  {
   "cell_type": "code",
   "execution_count": 15,
   "metadata": {},
   "outputs": [],
   "source": [
    "# Function showing scores of the model on a validation set\n",
    "def output(model, data_X, data_Y, return_rmsle=False):\n",
    "    ## Results on val data:\n",
    "    pred = model.predict(data_X)\n",
    "\n",
    "    rmsle = np.sqrt(mean_squared_log_error(data_Y, pred))\n",
    "    print(\"root mean squared log error:\", rmsle,\"\\n\")\n",
    "#     print(\"root mean_squared error:\", mse**(1/2),\"\\n\")\n",
    "        \n",
    "    if return_rmsle:\n",
    "        return rmsle"
   ]
  },
  {
   "cell_type": "code",
   "execution_count": 16,
   "metadata": {
    "scrolled": true
   },
   "outputs": [
    {
     "name": "stdout",
     "output_type": "stream",
     "text": [
      "root mean squared log error: 0.1443893894323584 \n",
      "\n"
     ]
    }
   ],
   "source": [
    "output(random_forest, valX, valY)"
   ]
  },
  {
   "cell_type": "markdown",
   "metadata": {},
   "source": [
    "## Sample Submission"
   ]
  },
  {
   "cell_type": "code",
   "execution_count": 76,
   "metadata": {},
   "outputs": [],
   "source": [
    "test_predic = random_forest.predict(test1[cols])"
   ]
  },
  {
   "cell_type": "code",
   "execution_count": 77,
   "metadata": {},
   "outputs": [],
   "source": [
    "submission = pd.DataFrame({'Id': test['Id'].values, 'SalePrice': test_predic})"
   ]
  },
  {
   "cell_type": "code",
   "execution_count": 78,
   "metadata": {},
   "outputs": [],
   "source": [
    "submission.to_csv('submission.csv',index=False)"
   ]
  },
  {
   "cell_type": "markdown",
   "metadata": {},
   "source": [
    "- ### Our baseline rmsle is 0.14259513368111795. Let's improve this with further feature engineering."
   ]
  },
  {
   "cell_type": "markdown",
   "metadata": {},
   "source": [
    "<a id=\"first_modeling\" />"
   ]
  },
  {
   "cell_type": "markdown",
   "metadata": {},
   "source": [
    "# First Modeling to get important features"
   ]
  },
  {
   "cell_type": "code",
   "execution_count": 17,
   "metadata": {},
   "outputs": [],
   "source": [
    "df1 = df1[cols+[target]]\n",
    "test1 = test1[cols]"
   ]
  },
  {
   "cell_type": "code",
   "execution_count": 21,
   "metadata": {},
   "outputs": [],
   "source": [
    "num_cols = [col for col in df.columns if (df[col].dtypes.kind in 'buicf') and (col not in ['Id','SalePrice'])]\n",
    "obj_cols = [col for col in df.columns if df[col].dtypes.kind in 'OS']"
   ]
  },
  {
   "cell_type": "code",
   "execution_count": 22,
   "metadata": {},
   "outputs": [],
   "source": [
    "rs = ShuffleSplit(n_splits=1, test_size=.25)"
   ]
  },
  {
   "cell_type": "code",
   "execution_count": 23,
   "metadata": {},
   "outputs": [],
   "source": [
    "def rmsle(y_true, y_pred):\n",
    "    return 'RMSLE', np.sqrt(np.mean(np.power(np.log1p(y_pred) - np.log1p(y_true), 2))), False"
   ]
  },
  {
   "cell_type": "code",
   "execution_count": 28,
   "metadata": {},
   "outputs": [],
   "source": [
    "lgb_reg = lgb.LGBMRegressor(num_leaves = 300, n_estimators=10000,\n",
    "                        n_jobs=-1,\n",
    "                        max_depth=10,\n",
    "                        learning_rate=0.02,\n",
    "                        subsample=0.5,\n",
    "                        colsample_bytree=0.5,\n",
    "                        min_data_in_leaf = 5,\n",
    "                        min_split_gain = 0,\n",
    "#                         min_child_weight = 0.03454472573214212,\n",
    "#                         reg_alpha= 0.3299927210061127,\n",
    "#                         reg_lambda= 0.3885237330340494,\n",
    "                        min_child_weight = 0.03454472573214212,\n",
    "                        reg_alpha= 0.3,\n",
    "                        reg_lambda= 0.3,  \n",
    "                        subsample_for_bin = 200000)"
   ]
  },
  {
   "cell_type": "code",
   "execution_count": 29,
   "metadata": {},
   "outputs": [],
   "source": [
    "df1X = df1.drop(target, axis=1)\n",
    "feature_names = [\"\".join (c if c.isalnum() else \"_\" for c in str(x)) for x in df1.columns]\n",
    "for train_idx, val_idx in rs.split(df1, df[target]):\n",
    "    trainX, trainY = df1X.iloc[train_idx], df[target].iloc[train_idx]\n",
    "    valX, valY = df1X.iloc[val_idx], df[target].iloc[val_idx]"
   ]
  },
  {
   "cell_type": "code",
   "execution_count": 30,
   "metadata": {},
   "outputs": [
    {
     "name": "stdout",
     "output_type": "stream",
     "text": [
      "Training until validation scores don't improve for 100 rounds\n",
      "[100]\ttrain's l2: 2.85285e+08\ttrain's RMSLE: 0.0978882\tval's l2: 8.76138e+08\tval's RMSLE: 0.158049\n",
      "[200]\ttrain's l2: 4.54747e+07\ttrain's RMSLE: 0.0386346\tval's l2: 5.98053e+08\tval's RMSLE: 0.130468\n",
      "[300]\ttrain's l2: 1.90475e+07\ttrain's RMSLE: 0.0272899\tval's l2: 5.7069e+08\tval's RMSLE: 0.127075\n",
      "[400]\ttrain's l2: 1.11181e+07\ttrain's RMSLE: 0.0221117\tval's l2: 5.64053e+08\tval's RMSLE: 0.126098\n",
      "[500]\ttrain's l2: 6.96012e+06\ttrain's RMSLE: 0.0187104\tval's l2: 5.59698e+08\tval's RMSLE: 0.125661\n",
      "[600]\ttrain's l2: 4.82097e+06\ttrain's RMSLE: 0.016128\tval's l2: 5.59388e+08\tval's RMSLE: 0.125427\n",
      "Early stopping, best iteration is:\n",
      "[584]\ttrain's l2: 5.08494e+06\ttrain's RMSLE: 0.0165158\tval's l2: 5.59222e+08\tval's RMSLE: 0.125463\n"
     ]
    },
    {
     "data": {
      "text/plain": [
       "LGBMRegressor(boosting_type='gbdt', class_weight=None, colsample_bytree=0.5,\n",
       "              importance_type='split', learning_rate=0.02, max_depth=10,\n",
       "              min_child_samples=20, min_child_weight=0.03454472573214212,\n",
       "              min_data_in_leaf=5, min_split_gain=0, n_estimators=10000,\n",
       "              n_jobs=-1, num_leaves=300, objective=None, random_state=None,\n",
       "              reg_alpha=0.3, reg_lambda=0.3, silent=True, subsample=0.5,\n",
       "              subsample_for_bin=200000, subsample_freq=0)"
      ]
     },
     "execution_count": 30,
     "metadata": {},
     "output_type": "execute_result"
    }
   ],
   "source": [
    "features = list(df1X.columns)\n",
    "lgb_reg.fit(trainX[features], trainY,\\\n",
    "           eval_metric = rmsle,\\\n",
    "            eval_set = [(trainX[features], trainY),(valX[features],valY)]\\\n",
    "            ,eval_names = ['train','val'], verbose=100, early_stopping_rounds=100)"
   ]
  },
  {
   "cell_type": "code",
   "execution_count": 32,
   "metadata": {},
   "outputs": [
    {
     "data": {
      "text/plain": [
       "<matplotlib.axes._subplots.AxesSubplot at 0x124e8b250>"
      ]
     },
     "execution_count": 32,
     "metadata": {},
     "output_type": "execute_result"
    },
    {
     "data": {
      "image/png": "[encoded data removed]",
      "text/plain": [
       "<Figure size 432x288 with 1 Axes>"
      ]
     },
     "metadata": {
      "needs_background": "light"
     },
     "output_type": "display_data"
    }
   ],
   "source": [
    "lgb.plot_importance(lgb_reg,max_num_features=20 , importance_type = 'split')"
   ]
  },
  {
   "cell_type": "code",
   "execution_count": 33,
   "metadata": {},
   "outputs": [
    {
     "data": {
      "text/plain": [
       "<matplotlib.axes._subplots.AxesSubplot at 0x122877450>"
      ]
     },
     "execution_count": 33,
     "metadata": {},
     "output_type": "execute_result"
    },
    {
     "data": {
      "image/png": "[encoded data removed]",
      "text/plain": [
       "<Figure size 432x288 with 1 Axes>"
      ]
     },
     "metadata": {
      "needs_background": "light"
     },
     "output_type": "display_data"
    }
   ],
   "source": [
    "lgb.plot_importance(lgb_reg,max_num_features=20 , importance_type = 'gain')"
   ]
  },
  {
   "cell_type": "code",
   "execution_count": 34,
   "metadata": {},
   "outputs": [],
   "source": [
    "def feature_in_use(feature_to_look, features_to_use, verbose = False):\n",
    "#    feature_to_look = 'email'\n",
    "    if type(features_to_use) == pd.DataFrame:\n",
    "        features_to_use = features_to_use.columns\n",
    "    feature_in_use_list = []\n",
    "    for feature in features_to_use:\n",
    "        if feature_to_look in feature:\n",
    "                if verbose:\n",
    "                    print(feature)\n",
    "                feature_in_use_list.append(feature)\n",
    "    return feature_in_use_list"
   ]
  },
  {
   "cell_type": "code",
   "execution_count": 178,
   "metadata": {},
   "outputs": [],
   "source": [
    "def large_cor_cols(df1,target,threshold,num_itr_to_avg,  verbose = False):\n",
    "    cor = {}\n",
    "    dfX = df1.drop(target,axis=1)\n",
    "    for i in range(num_itr_to_avg):\n",
    "        cor[i] = abs(dfX.apply(lambda x: x.corr(df1[target])))\n",
    "        if i == 0:\n",
    "            cor_df = cor[i]\n",
    "        else:\n",
    "            cor_df = pd.concat([cor_df, cor[i]], axis = 1, sort = False) \n",
    "        \n",
    "    cor_sort = cor_df.mean(axis=1).sort_values(ascending=False)\n",
    "\n",
    "    lg_cor = cor_sort[cor_sort >= threshold]\n",
    "    if verbose:\n",
    "        print(lg_cor.to_string())\n",
    "        print(f'------ threshold = {threshold} ------')\n",
    "        print(cor_sort[cor_sort < threshold].to_string())\n",
    "    lg_cor_cols =  list(lg_cor.index.values)\n",
    "\n",
    "    return lg_cor_cols"
   ]
  },
  {
   "cell_type": "code",
   "execution_count": 52,
   "metadata": {},
   "outputs": [
    {
     "name": "stdout",
     "output_type": "stream",
     "text": [
      "SalePrice                1.000000\n",
      "OverallQual              0.790982\n",
      "GrLivArea                0.708624\n",
      "GarageCars               0.640409\n",
      "GarageArea               0.623431\n",
      "TotalBsmtSF              0.613581\n",
      "1stFlrSF                 0.605852\n",
      "ExterQual_TA             0.589044\n",
      "FullBath                 0.560664\n",
      "BsmtQual_Ex              0.553105\n",
      "TotRmsAbvGrd             0.533723\n",
      "YearBuilt                0.522897\n",
      "KitchenQual_TA           0.519298\n",
      "YearRemodAdd             0.507101\n",
      "KitchenQual_Ex           0.504094\n",
      "Foundation_PConc         0.497734\n",
      "MasVnrArea               0.475241\n",
      "GarageYrBlt              0.470177\n",
      "Fireplaces               0.466929\n",
      "ExterQual_Gd             0.452466\n",
      "BsmtQual_TA              0.452394\n",
      "ExterQual_Ex             0.451164\n",
      "BsmtFinType1_GLQ         0.434597\n",
      "HeatingQC_Ex             0.434543\n",
      "GarageFinish_Fin         0.419678\n",
      "GarageFinish_Unf         0.410608\n",
      "Neighborhood_NridgHt     0.402149\n",
      "BsmtFinSF1               0.386420\n",
      "MasVnrType_None          0.374468\n",
      "SaleType_New             0.357509\n",
      "GarageType_Detchd        0.354141\n",
      "SaleCondition_Partial    0.352060\n",
      "Foundation_CBlock        0.343263\n",
      "GarageType_Attchd        0.335961\n",
      "LotFrontage              0.334901\n",
      "MasVnrType_Stone         0.330476\n",
      "Neighborhood_NoRidge     0.330424\n",
      "WoodDeckSF               0.324413\n",
      "KitchenQual_Gd           0.321641\n",
      "2ndFlrSF                 0.319334\n",
      "OpenPorchSF              0.315856\n",
      "HeatingQC_TA             0.312677\n",
      "BsmtExposure_Gd          0.307298\n",
      "Exterior2nd_VinylSd      0.306389\n",
      "Exterior1st_VinylSd      0.305009\n",
      "MSZoning_RM              0.288065\n",
      "HalfBath                 0.284108\n",
      "GarageCond_TA            0.275872\n",
      "LotShape_Reg             0.267672\n",
      "LotArea                  0.263843\n",
      "BsmtExposure_No          0.263600\n",
      "CentralAir_Y             0.251328\n",
      "CentralAir_N             0.251328\n",
      "GarageQual_TA            0.245346\n",
      "MSZoning_RL              0.245063\n",
      "HouseStyle_2Story        0.242880\n",
      "SaleType_WD              0.242598\n",
      "Electrical_SBrkr         0.241896\n",
      "RoofStyle_Hip            0.235897\n",
      "GarageType_BuiltIn       0.235449\n",
      "BsmtQual_Gd              0.234822\n",
      "PavedDrive_Y             0.231968\n",
      "BsmtFullBath             0.227122\n",
      "RoofStyle_Gable          0.224744\n",
      "LotShape_IR1             0.223284\n",
      "Neighborhood_StoneBr     0.215363\n",
      "BsmtUnfSF                0.214479\n",
      "PavedDrive_N             0.212630\n",
      "Foundation_BrkTil        0.204117\n",
      "MasVnrType_BrkFace       0.198191\n",
      "Electrical_FuseA         0.193978\n",
      "Neighborhood_OldTown     0.192189\n",
      "Neighborhood_NAmes       0.188513\n",
      "Neighborhood_Edwards     0.179949\n",
      "GarageFinish_RFn         0.169792\n",
      "RoofMatl_WdShngl         0.169324\n",
      "BedroomAbvGr             0.168213\n",
      "Exterior1st_MetalSd      0.167068\n",
      "Neighborhood_IDOTRR      0.164056\n",
      "HouseStyle_1.5Fin        0.163466\n",
      "Exterior2nd_MetalSd      0.162389\n",
      "Exterior2nd_Wd Sdng      0.161800\n",
      "Exterior1st_Wd Sdng      0.158619\n",
      "KitchenQual_Fa           0.157199\n",
      "SaleCondition_Normal     0.153990\n",
      "Neighborhood_BrkSide     0.143648\n",
      "LotConfig_CulDSac        0.141818\n",
      "Neighborhood_Somerst     0.140058\n",
      "ExterCond_Fa             0.137914\n",
      "BldgType_1Fam            0.137483\n",
      "BsmtExposure_Av          0.136793\n",
      "KitchenAbvGr             0.135907\n",
      "BsmtFinType1_Rec         0.135667\n",
      "HeatingQC_Gd             0.134722\n",
      "HeatingQC_Fa             0.133758\n",
      "Exterior1st_CemntBd      0.133492\n",
      "GarageQual_Fa            0.133142\n",
      "BsmtFinType1_BLQ         0.132914\n",
      "BsmtCond_Fa              0.132739\n",
      "GarageCond_Fa            0.130774\n",
      "BsmtQual_Fa              0.128725\n",
      "EnclosedPorch            0.128578\n",
      "Neighborhood_Sawyer      0.128394\n",
      "Exterior2nd_CmentBd      0.128183\n",
      "Electrical_FuseF         0.126601\n",
      "Neighborhood_Timber      0.126236\n",
      "LotShape_IR2             0.126096\n",
      "LandContour_HLS          0.120014\n",
      "Foundation_Slab          0.119740\n",
      "SaleCondition_Abnorml    0.118069\n",
      "BsmtFinType2_Unf         0.117901\n",
      "Condition1_Feedr         0.117329\n",
      "Functional_Typ           0.116462\n",
      "ExterQual_Fa             0.115149\n",
      "BldgType_Duplex          0.114655\n",
      "Condition1_Norm          0.112968\n",
      "Neighborhood_MeadowV     0.112544\n",
      "ScreenPorch              0.111447\n",
      "MSZoning_C (all)         0.111257\n",
      "Exterior1st_AsbShng      0.109126\n",
      "Condition1_Artery        0.106401\n",
      "ExterCond_TA             0.105222\n",
      "RoofMatl_CompShg         0.104505\n",
      "BsmtFinType1_ALQ         0.102621\n",
      "Neighborhood_BrDale      0.101303\n",
      "BsmtCond_TA              0.101275\n",
      "LandContour_Bnk          0.101124\n",
      "Exterior2nd_AsbShng      0.099220\n",
      "BldgType_Twnhs           0.098730\n",
      "BldgType_2fmCon          0.097348\n",
      "Exterior1st_HdBoard      0.095148\n",
      "HouseStyle_SFoyer        0.093090\n",
      "Heating_GasA             0.092529\n",
      "PoolArea                 0.092404\n",
      "Heating_Grav             0.092338\n",
      "MSZoning_FV              0.089950\n",
      "BsmtCond_Gd              0.088824\n",
      "PavedDrive_P             0.088623\n",
      "HouseStyle_1.5Unf        0.087686\n",
      "BsmtFinType1_LwQ         0.084577\n",
      "MSSubClass               0.084284\n",
      "BsmtFinType1_Unf         0.083399\n",
      "SaleType_COD             0.081047\n",
      "LotConfig_Inside         0.080538\n",
      "OverallCond              0.077856\n",
      "Exterior2nd_ImStucc      0.074401\n",
      "Neighborhood_CollgCr     0.072626\n",
      "Functional_Min2          0.071320\n",
      "Neighborhood_Crawfor     0.071160\n",
      "GarageType_CarPort       0.070371\n",
      "Functional_Maj2          0.070214\n",
      "Exterior2nd_HdBoard      0.067864\n",
      "MSZoning_RH              0.065429\n",
      "Functional_Min1          0.064051\n",
      "Neighborhood_SWISU       0.063705\n",
      "Neighborhood_Veenker     0.063471\n",
      "GarageCond_Po            0.063296\n",
      "HouseStyle_1Story        0.061811\n",
      "Heating_Wall             0.058622\n",
      "Neighborhood_Mitchel     0.057845\n",
      "BsmtFinType2_BLQ         0.057102\n",
      "Neighborhood_ClearCr     0.055718\n",
      "BsmtCond_Po              0.054529\n",
      "Exterior2nd_Plywood      0.052941\n",
      "Exterior1st_WdShing      0.051317\n",
      "Exterior1st_BrkComm      0.051264\n",
      "LandSlope_Gtl            0.051116\n",
      "SaleCondition_AdjLand    0.050686\n",
      "ExterCond_Gd             0.050467\n",
      "Condition1_PosN          0.049541\n",
      "Condition2_PosN          0.048481\n",
      "Condition2_Feedr         0.048335\n",
      "Electrical_FuseP         0.047761\n",
      "Condition2_PosA          0.047497\n",
      "Exterior2nd_Brk Cmn      0.047377\n",
      "Condition1_RRAe          0.046651\n",
      "SaleCondition_Family     0.046480\n",
      "MoSold                   0.046432\n",
      "GarageQual_Po            0.046142\n",
      "LandContour_Low          0.045528\n",
      "RoofMatl_WdShake         0.044643\n",
      "3SsnPorch                0.044584\n",
      "MasVnrType_BrkCmn        0.044394\n",
      "BsmtExposure_Mn          0.043493\n",
      "GarageQual_Gd            0.043291\n",
      "LandSlope_Mod            0.042981\n",
      "Exterior2nd_Stucco       0.042416\n",
      "Condition1_PosA          0.042017\n",
      "BsmtFinType2_ALQ         0.041962\n",
      "SaleType_ConLD           0.041791\n",
      "SaleType_Con             0.041357\n",
      "Street_Grvl              0.041036\n",
      "Street_Pave              0.041036\n",
      "Exterior2nd_Wd Shng      0.040329\n",
      "BsmtFinType2_Rec         0.039494\n",
      "HouseStyle_SLvl          0.038645\n",
      "Neighborhood_NPkVill     0.037910\n",
      "BsmtFinType2_LwQ         0.037604\n",
      "LotShape_IR3             0.036720\n",
      "Neighborhood_Gilbert     0.035940\n",
      "RoofStyle_Gambrel        0.035121\n",
      "SaleType_Oth             0.034895\n",
      "Condition2_Artery        0.034708\n",
      "ExterCond_Po             0.034424\n",
      "Functional_Maj1          0.033420\n",
      "Exterior1st_BrkFace      0.032371\n",
      "HeatingQC_Po             0.030962\n",
      "Condition2_Norm          0.030676\n",
      "Exterior1st_Stucco       0.029802\n",
      "GarageType_Basment       0.029425\n",
      "YrSold                   0.028923\n",
      "LandSlope_Sev            0.027998\n",
      "LandContour_Lvl          0.027545\n",
      "SaleType_ConLw           0.027475\n",
      "Exterior1st_AsphShn      0.026677\n",
      "GarageCond_Ex            0.026546\n",
      "HouseStyle_2.5Unf        0.025856\n",
      "LowQualFinSF             0.025606\n",
      "Exterior1st_CBlock       0.025028\n",
      "Exterior2nd_CBlock       0.025028\n",
      "Exterior2nd_BrkFace      0.024759\n",
      "Exterior2nd_AsphShn      0.024524\n",
      "GarageType_2Types        0.023974\n",
      "Neighborhood_NWAmes      0.023483\n",
      "Condition1_RRNn          0.023236\n",
      "MiscVal                  0.021190\n",
      "RoofStyle_Shed           0.020557\n",
      "Neighborhood_Blueste     0.020250\n",
      "Heating_GasW             0.020103\n",
      "SaleType_CWD             0.019588\n",
      "Neighborhood_Blmngtn     0.019066\n",
      "LotConfig_FR3            0.018186\n",
      "Exterior1st_Plywood      0.017719\n",
      "Functional_Sev           0.017116\n",
      "BsmtHalfBath             0.016844\n",
      "Exterior2nd_Stone        0.016754\n",
      "RoofStyle_Flat           0.016433\n",
      "Functional_Mod           0.016073\n",
      "SaleCondition_Alloca     0.015525\n",
      "Neighborhood_SawyerW     0.014560\n",
      "SaleType_ConLI           0.014371\n",
      "Utilities_AllPub         0.014314\n",
      "Foundation_Stone         0.012103\n",
      "ExterCond_Ex             0.011663\n",
      "BsmtFinSF2               0.011378\n",
      "------ threshold = 0.01 ------\n",
      "LotConfig_FR2        0.006859\n",
      "Condition1_RRAn      0.005893\n",
      "RoofMatl_Tar&Grv     0.004921\n",
      "Condition1_RRNe      0.004584\n",
      "LotConfig_Corner     0.004145\n",
      "BldgType_TwnhsE      0.003804\n",
      "Foundation_Wood      0.002711\n",
      "GarageCond_Gd        0.000983\n",
      "RoofStyle_Mansard    0.000308\n",
      "BsmtFinType2_GLQ     0.000076\n"
     ]
    }
   ],
   "source": [
    "lg_cor_cols = large_cor_cols(df1,target = target, threshold=0.01,num_itr_to_avg=20,verbose = True)"
   ]
  },
  {
   "cell_type": "markdown",
   "metadata": {},
   "source": [
    "<a id=\"label_encoding\"/>"
   ]
  },
  {
   "cell_type": "markdown",
   "metadata": {},
   "source": [
    "# Label Encoding by an order of mean SalePrice"
   ]
  },
  {
   "cell_type": "code",
   "execution_count": 166,
   "metadata": {},
   "outputs": [],
   "source": [
    "def labelen_by_order(df,cols = [], target = target, df_test = pd.DataFrame()):\n",
    "    if cols == []:\n",
    "        cols = df.columns\n",
    "    df1 = df.copy()\n",
    "    if not df_test.empty:\n",
    "        test1 = df_test.copy()\n",
    "    for col in tqdm(cols):\n",
    "        if df1[col].dtype.kind not in 'OS':\n",
    "            continue\n",
    "        label = {}\n",
    "        for i,idx in enumerate(df1.groupby(col)[target].agg(\"mean\").sort_values().index):\n",
    "            label[idx]=i\n",
    "        label_mean = np.array(list(label.values())).mean()\n",
    "        if not df_test.empty:\n",
    "            for idx in set(test1[col].unique())-set(df1[col].unique()):\n",
    "                label[idx]=label_mean\n",
    "            test1[col] = test1[col].map(label)\n",
    "        df1[col] = df1[col].map(label)\n",
    "    if df_test.empty:\n",
    "        return df1\n",
    "    else:\n",
    "        return df1, test1"
   ]
  },
  {
   "cell_type": "code",
   "execution_count": 124,
   "metadata": {},
   "outputs": [],
   "source": [
    "df1, test1 = labelen_by_order(df,df_test = test)"
   ]
  },
  {
   "cell_type": "code",
   "execution_count": 129,
   "metadata": {},
   "outputs": [
    {
     "name": "stdout",
     "output_type": "stream",
     "text": [
      "SalePrice        1.000000\n",
      "OverallQual      0.790982\n",
      "GrLivArea        0.708624\n",
      "Neighborhood     0.696882\n",
      "ExterQual        0.682639\n",
      "KitchenQual      0.659600\n",
      "BsmtQual         0.644019\n",
      "GarageCars       0.640409\n",
      "GarageArea       0.623431\n",
      "TotalBsmtSF      0.613581\n",
      "1stFlrSF         0.605852\n",
      "PoolQC           0.595229\n",
      "FullBath         0.560664\n",
      "Alley            0.534319\n",
      "TotRmsAbvGrd     0.533723\n",
      "YearBuilt        0.522897\n",
      "GarageFinish     0.513105\n",
      "YearRemodAdd     0.507101\n",
      "Foundation       0.505503\n",
      "GarageYrBlt      0.486362\n",
      "MasVnrArea       0.477493\n",
      "Fireplaces       0.466929\n",
      "GarageType       0.445598\n",
      "MasVnrType       0.429020\n",
      "HeatingQC        0.427649\n",
      "BsmtFinSF1       0.386420\n",
      "Exterior1st      0.371400\n",
      "SaleType         0.366821\n",
      "Exterior2nd      0.365384\n",
      "BsmtFinType1     0.353750\n",
      "BsmtExposure     0.352958\n",
      "LotFrontage      0.351799\n",
      "MSZoning         0.324610\n",
      "WoodDeckSF       0.324413\n",
      "MiscFeature      0.322456\n",
      "2ndFlrSF         0.319334\n",
      "OpenPorchSF      0.315856\n",
      "FireplaceQu      0.295794\n",
      "HalfBath         0.284108\n",
      "HouseStyle       0.273075\n",
      "LotShape         0.265699\n",
      "LotArea          0.263843\n",
      "CentralAir       0.251328\n",
      "RoofStyle        0.239777\n",
      "SaleCondition    0.238111\n",
      "Electrical       0.233590\n",
      "PavedDrive       0.231357\n",
      "BsmtFullBath     0.227122\n",
      "BsmtUnfSF        0.214479\n",
      "Fence            0.201953\n",
      "BldgType         0.176025\n",
      "Condition1       0.172398\n",
      "BedroomAbvGr     0.168213\n",
      "GarageCond       0.162827\n",
      "BsmtCond         0.160658\n",
      "LandContour      0.158437\n",
      "RoofMatl         0.156743\n",
      "GarageQual       0.156693\n",
      "ExterCond        0.138026\n",
      "KitchenAbvGr     0.135907\n",
      "EnclosedPorch    0.128578\n",
      "Functional       0.125586\n",
      "LotConfig        0.122882\n",
      "Heating          0.118755\n",
      "ScreenPorch      0.111447\n",
      "Condition2       0.093693\n",
      "BsmtFinType2     0.093038\n",
      "PoolArea         0.092404\n",
      "MSSubClass       0.084284\n",
      "OverallCond      0.077856\n",
      "LandSlope        0.051152\n",
      "------ threshold = 0.05 ------\n",
      "MoSold          0.046432\n",
      "3SsnPorch       0.044584\n",
      "Street          0.041036\n",
      "YrSold          0.028923\n",
      "LowQualFinSF    0.025606\n",
      "Id              0.021917\n",
      "MiscVal         0.021190\n",
      "BsmtHalfBath    0.016844\n",
      "Utilities       0.014314\n",
      "BsmtFinSF2      0.011378\n"
     ]
    }
   ],
   "source": [
    "lg_cor_cols = large_cor_cols(df1,target = target, threshold=0.05,num_itr_to_avg=20,verbose = True)"
   ]
  },
  {
   "cell_type": "code",
   "execution_count": 131,
   "metadata": {},
   "outputs": [],
   "source": [
    "lg_cor_cols = [col for col in lg_cor_cols if col not in [\"Id\",target]]"
   ]
  },
  {
   "cell_type": "code",
   "execution_count": 132,
   "metadata": {},
   "outputs": [],
   "source": [
    "df1 = df1[[target]+lg_cor_cols]\n",
    "test1 = test1[lg_cor_cols]"
   ]
  },
  {
   "cell_type": "code",
   "execution_count": 172,
   "metadata": {},
   "outputs": [
    {
     "data": {
      "text/plain": [
       "(1460, 2486)"
      ]
     },
     "execution_count": 172,
     "metadata": {},
     "output_type": "execute_result"
    }
   ],
   "source": [
    "df11.shape"
   ]
  },
  {
   "cell_type": "markdown",
   "metadata": {},
   "source": [
    "<a id=\"combine_two\"/>"
   ]
  },
  {
   "cell_type": "markdown",
   "metadata": {},
   "source": [
    "# combine two features"
   ]
  },
  {
   "cell_type": "code",
   "execution_count": 165,
   "metadata": {},
   "outputs": [
    {
     "name": "stderr",
     "output_type": "stream",
     "text": [
      "1335it [05:00,  4.45it/s]]\n",
      "2415it [00:14, 166.04it/s]\n"
     ]
    }
   ],
   "source": [
    "from itertools import combinations\n",
    "for col1, col2 in tqdm(combinations(lg_cor_cols,2)):\n",
    "    new = col1+\"__\"+col2\n",
    "    df1[new] = df[col1].astype(str)+\"__\"+df[col2].astype(str)\n",
    "    test1[new] = test[col1].astype(str)+\"__\"+test[col2].astype(str)\n",
    "df11, test11 = labelen_by_order(df1,cols = feature_in_use(\"__\",df1),df_test = test1)"
   ]
  },
  {
   "cell_type": "code",
   "execution_count": 385,
   "metadata": {},
   "outputs": [],
   "source": [
    "lg_cor_cols11 = large_cor_cols(df11,target = target, threshold=0.3,num_itr_to_avg=20)"
   ]
  },
  {
   "cell_type": "code",
   "execution_count": 405,
   "metadata": {},
   "outputs": [],
   "source": [
    "from collections import defaultdict\n",
    "used = defaultdict(int)\n",
    "feature = []\n",
    "for col in feature_in_use(\"__\",lg_cor_cols11):\n",
    "    c1, c2 = col.split(\"__\")\n",
    "    used[c1]+=1\n",
    "    used[c2]+=1\n",
    "    if (used[c1] * used[c2])<=4:\n",
    "        feature.append(col)"
   ]
  },
  {
   "cell_type": "code",
   "execution_count": 406,
   "metadata": {},
   "outputs": [
    {
     "data": {
      "text/plain": [
       "11"
      ]
     },
     "execution_count": 406,
     "metadata": {},
     "output_type": "execute_result"
    }
   ],
   "source": [
    "len(feature)"
   ]
  },
  {
   "cell_type": "code",
   "execution_count": 407,
   "metadata": {},
   "outputs": [
    {
     "data": {
      "text/plain": [
       "['Neighborhood__TotalBsmtSF',\n",
       " 'GrLivArea__TotalBsmtSF',\n",
       " 'TotalBsmtSF__OpenPorchSF',\n",
       " 'GrLivArea__Neighborhood',\n",
       " 'OverallQual__GrLivArea',\n",
       " 'Neighborhood__1stFlrSF',\n",
       " '1stFlrSF__YearBuilt',\n",
       " 'TotalBsmtSF__2ndFlrSF',\n",
       " 'OverallQual__LotArea',\n",
       " 'OpenPorchSF__LotArea',\n",
       " 'Neighborhood__GarageArea']"
      ]
     },
     "execution_count": 407,
     "metadata": {},
     "output_type": "execute_result"
    }
   ],
   "source": [
    "feature"
   ]
  },
  {
   "cell_type": "code",
   "execution_count": 389,
   "metadata": {},
   "outputs": [],
   "source": [
    "features = lg_cor_cols+feature"
   ]
  },
  {
   "cell_type": "code",
   "execution_count": 378,
   "metadata": {},
   "outputs": [],
   "source": [
    "features = large_cor_cols(df11[features+[target]],target = target, threshold=0.3,num_itr_to_avg=20)"
   ]
  },
  {
   "cell_type": "code",
   "execution_count": 390,
   "metadata": {},
   "outputs": [
    {
     "data": {
      "text/plain": [
       "74"
      ]
     },
     "execution_count": 390,
     "metadata": {},
     "output_type": "execute_result"
    }
   ],
   "source": [
    "len(features)"
   ]
  },
  {
   "cell_type": "code",
   "execution_count": 391,
   "metadata": {},
   "outputs": [],
   "source": [
    "features = [col for col in features if (col in df11.columns) and (col in test11.columns)]"
   ]
  },
  {
   "cell_type": "code",
   "execution_count": 392,
   "metadata": {},
   "outputs": [],
   "source": [
    "df1 = df11[features+[target]]\n",
    "test1 = test11[features]"
   ]
  },
  {
   "cell_type": "markdown",
   "metadata": {},
   "source": [
    "<a id=\"sqcb\"/>"
   ]
  },
  {
   "cell_type": "markdown",
   "metadata": {},
   "source": [
    "# get squre and cubic of numerical features"
   ]
  },
  {
   "cell_type": "code",
   "execution_count": 219,
   "metadata": {},
   "outputs": [],
   "source": [
    "df12 = pd.DataFrame()\n",
    "test12 = pd.DataFrame()\n",
    "for col in num_cols:\n",
    "    df12[col+\"__sq\"]=df[col]**2\n",
    "    df12[col+\"__cb\"]=df[col]**3\n",
    "    test12[col+\"__sq\"]=test[col]**2\n",
    "    test12[col+\"__cb\"]=test[col]**3"
   ]
  },
  {
   "cell_type": "code",
   "execution_count": 220,
   "metadata": {},
   "outputs": [],
   "source": [
    "df12[target] = df[target]"
   ]
  },
  {
   "cell_type": "code",
   "execution_count": 221,
   "metadata": {},
   "outputs": [],
   "source": [
    "sqcb_features = large_cor_cols(df12,target = target, threshold=0.3,num_itr_to_avg=20)"
   ]
  },
  {
   "cell_type": "code",
   "execution_count": 393,
   "metadata": {},
   "outputs": [],
   "source": [
    "for col in sqcb_features:\n",
    "    df1[col] = df12[col]\n",
    "    test1[col] = test12[col]"
   ]
  },
  {
   "cell_type": "code",
   "execution_count": null,
   "metadata": {},
   "outputs": [],
   "source": []
  },
  {
   "cell_type": "code",
   "execution_count": 357,
   "metadata": {},
   "outputs": [],
   "source": [
    "bad_cols = {}\n",
    "n = len(test)\n",
    "for col in obj_cols:\n",
    "    test_uniq = test[col].isin(set(test[col].unique())-set(df[col].unique())).sum()\n",
    "    if test_uniq/n >0.001:\n",
    "        bad_cols[col]=test_uniq/n"
   ]
  },
  {
   "cell_type": "code",
   "execution_count": 358,
   "metadata": {},
   "outputs": [
    {
     "data": {
      "text/plain": [
       "{'MSZoning': 0.0027416038382453737,\n",
       " 'Utilities': 0.0013708019191226869,\n",
       " 'Functional': 0.0013708019191226869}"
      ]
     },
     "execution_count": 358,
     "metadata": {},
     "output_type": "execute_result"
    }
   ],
   "source": [
    "bad_cols"
   ]
  },
  {
   "cell_type": "code",
   "execution_count": 394,
   "metadata": {},
   "outputs": [],
   "source": [
    "df1.fillna(df1.mean(),inplace=True)"
   ]
  },
  {
   "cell_type": "code",
   "execution_count": 395,
   "metadata": {},
   "outputs": [],
   "source": [
    "test1.fillna(test1.mean(),inplace=True)"
   ]
  },
  {
   "cell_type": "code",
   "execution_count": 397,
   "metadata": {},
   "outputs": [
    {
     "data": {
      "text/plain": [
       "(1460, 100)"
      ]
     },
     "execution_count": 397,
     "metadata": {},
     "output_type": "execute_result"
    }
   ],
   "source": [
    "df1.shape"
   ]
  },
  {
   "cell_type": "code",
   "execution_count": 398,
   "metadata": {},
   "outputs": [
    {
     "data": {
      "text/plain": [
       "(1459, 99)"
      ]
     },
     "execution_count": 398,
     "metadata": {},
     "output_type": "execute_result"
    }
   ],
   "source": [
    "test1.shape"
   ]
  },
  {
   "cell_type": "markdown",
   "metadata": {},
   "source": [
    "<a id=\"normalize\"/>"
   ]
  },
  {
   "cell_type": "markdown",
   "metadata": {},
   "source": [
    "# Normalize"
   ]
  },
  {
   "cell_type": "code",
   "execution_count": 430,
   "metadata": {},
   "outputs": [],
   "source": [
    "from sklearn.preprocessing import StandardScaler\n",
    "def normalize_df(df, target, df_test):\n",
    "    dataX, dataY = df.drop(target, axis=1), df[target]\n",
    "    scaler = StandardScaler()\n",
    "    scaler.fit(dataX)\n",
    "    dataX = scaler.transform(dataX)\n",
    "    testX = scaler.transform(df_test)\n",
    "    return dataX, dataY, testX"
   ]
  },
  {
   "cell_type": "code",
   "execution_count": 494,
   "metadata": {},
   "outputs": [],
   "source": [
    "df1X, df1Y, test1X = normalize_df(df1, target, test1)"
   ]
  },
  {
   "cell_type": "markdown",
   "metadata": {},
   "source": [
    "<a id=\"modeling\"/>"
   ]
  },
  {
   "cell_type": "markdown",
   "metadata": {},
   "source": [
    "# Modeling"
   ]
  },
  {
   "cell_type": "code",
   "execution_count": 507,
   "metadata": {},
   "outputs": [],
   "source": [
    "lgb_reg = lgb.LGBMRegressor(num_leaves = 500, n_estimators=10000,\n",
    "                        n_jobs=-1,\n",
    "                        max_depth=5,\n",
    "                        learning_rate=0.01,\n",
    "                        subsample=0.5,\n",
    "                        colsample_bytree=0.5,\n",
    "                        min_data_in_leaf = 10,\n",
    "#                         min_child_weight = 0.03454472573214212,\n",
    "#                         reg_alpha= 0.3299927210061127,\n",
    "#                         reg_lambda= 0.3885237330340494,\n",
    "                        min_child_weight = 0.03454472573214212,\n",
    "                        reg_alpha= 0.3,\n",
    "                        reg_lambda= 0.3,  \n",
    "                        subsample_for_bin = 200000,\n",
    "                        min_split_gain = 0)"
   ]
  },
  {
   "cell_type": "code",
   "execution_count": 508,
   "metadata": {},
   "outputs": [],
   "source": [
    "rs = ShuffleSplit(n_splits=1, test_size=.2)\n",
    "for train_idx, val_idx in rs.split(df1X, df[target]):\n",
    "    trainX, trainY = df1X[train_idx], df[target].iloc[train_idx]\n",
    "    valX, valY = df1X[val_idx], df[target].iloc[val_idx]"
   ]
  },
  {
   "cell_type": "code",
   "execution_count": 509,
   "metadata": {},
   "outputs": [
    {
     "name": "stdout",
     "output_type": "stream",
     "text": [
      "Training until validation scores don't improve for 100 rounds\n",
      "[100]\ttrain's l2: 9.80077e+08\ttrain's RMSLE: 0.173311\tval's l2: 8.07882e+08\tval's RMSLE: 0.156384\n",
      "[200]\ttrain's l2: 2.19809e+08\ttrain's RMSLE: 0.0791256\tval's l2: 1.40147e+08\tval's RMSLE: 0.0671997\n",
      "[300]\ttrain's l2: 9.75955e+07\ttrain's RMSLE: 0.0433421\tval's l2: 7.66318e+07\tval's RMSLE: 0.0395414\n",
      "[400]\ttrain's l2: 6.69458e+07\ttrain's RMSLE: 0.0327656\tval's l2: 8.68968e+07\tval's RMSLE: 0.0361853\n",
      "Early stopping, best iteration is:\n",
      "[308]\ttrain's l2: 9.39677e+07\ttrain's RMSLE: 0.0419411\tval's l2: 7.61518e+07\tval's RMSLE: 0.0387022\n"
     ]
    },
    {
     "data": {
      "text/plain": [
       "LGBMRegressor(boosting_type='gbdt', class_weight=None, colsample_bytree=0.5,\n",
       "              importance_type='split', learning_rate=0.01, max_depth=5,\n",
       "              min_child_samples=20, min_child_weight=0.03454472573214212,\n",
       "              min_data_in_leaf=10, min_split_gain=0, n_estimators=10000,\n",
       "              n_jobs=-1, num_leaves=500, objective=None, random_state=None,\n",
       "              reg_alpha=0.3, reg_lambda=0.3, silent=True, subsample=0.5,\n",
       "              subsample_for_bin=200000, subsample_freq=0)"
      ]
     },
     "execution_count": 509,
     "metadata": {},
     "output_type": "execute_result"
    }
   ],
   "source": [
    "lgb_reg.fit(trainX, trainY,\\\n",
    "           eval_metric = rmsle,\\\n",
    "            eval_set = [(trainX, trainY),(valX,valY)],\\\n",
    "            eval_names = ['train','val'], verbose=100, early_stopping_rounds=100)"
   ]
  },
  {
   "cell_type": "markdown",
   "metadata": {},
   "source": [
    "- ## Improvement from 0.14 to 0.038"
   ]
  },
  {
   "cell_type": "code",
   "execution_count": 510,
   "metadata": {},
   "outputs": [
    {
     "data": {
      "text/plain": [
       "RandomForestRegressor(bootstrap=True, ccp_alpha=0.0, criterion='mse',\n",
       "                      max_depth=5, max_features='auto', max_leaf_nodes=None,\n",
       "                      max_samples=None, min_impurity_decrease=0.0,\n",
       "                      min_impurity_split=None, min_samples_leaf=1,\n",
       "                      min_samples_split=2, min_weight_fraction_leaf=0.0,\n",
       "                      n_estimators=100, n_jobs=-1, oob_score=False,\n",
       "                      random_state=None, verbose=0, warm_start=False)"
      ]
     },
     "execution_count": 510,
     "metadata": {},
     "output_type": "execute_result"
    }
   ],
   "source": [
    "# Make the random forest classifier\n",
    "random_forest = RandomForestRegressor(n_estimators = 100,  max_depth=5, n_jobs=-1)\n",
    "# Train with the training data\n",
    "random_forest.fit(trainX, trainY)"
   ]
  },
  {
   "cell_type": "code",
   "execution_count": 511,
   "metadata": {},
   "outputs": [],
   "source": [
    "# Function showing scores of the model on a validation set\n",
    "def output(model, data_X, data_Y, return_rmsle=False):\n",
    "    ## Results on val data:\n",
    "    pred = model.predict(data_X)\n",
    "\n",
    "    rmsle = np.sqrt(mean_squared_log_error(data_Y, pred))\n",
    "    print(\"root mean squared log error:\", rmsle,\"\\n\")\n",
    "#     print(\"root mean_squared error:\", mse**(1/2),\"\\n\")\n",
    "        \n",
    "    if return_rmsle:\n",
    "        return rmsle"
   ]
  },
  {
   "cell_type": "code",
   "execution_count": 512,
   "metadata": {
    "scrolled": true
   },
   "outputs": [
    {
     "name": "stdout",
     "output_type": "stream",
     "text": [
      "root mean squared log error: 0.03700428496661117 \n",
      "\n"
     ]
    }
   ],
   "source": [
    "output(random_forest, valX, valY)"
   ]
  },
  {
   "cell_type": "code",
   "execution_count": 517,
   "metadata": {},
   "outputs": [],
   "source": [
    "from sklearn.linear_model import LinearRegression\n",
    "linreg = LinearRegression().fit(trainX, trainY)"
   ]
  },
  {
   "cell_type": "markdown",
   "metadata": {},
   "source": [
    "## Sample Submission"
   ]
  },
  {
   "cell_type": "code",
   "execution_count": 462,
   "metadata": {},
   "outputs": [],
   "source": [
    "test_predic = lgb_reg.predict(test1X)"
   ]
  },
  {
   "cell_type": "code",
   "execution_count": 513,
   "metadata": {},
   "outputs": [],
   "source": [
    "test_predic = random_forest.predict(test1X)"
   ]
  },
  {
   "cell_type": "code",
   "execution_count": 519,
   "metadata": {},
   "outputs": [],
   "source": [
    "test_predic = linreg.predict(test1X)"
   ]
  },
  {
   "cell_type": "code",
   "execution_count": 520,
   "metadata": {},
   "outputs": [],
   "source": [
    "submission = pd.DataFrame({'Id': test['Id'].values, 'SalePrice': test_predic})"
   ]
  },
  {
   "cell_type": "code",
   "execution_count": 521,
   "metadata": {},
   "outputs": [],
   "source": [
    "submission.to_csv('submission.csv',index=False)"
   ]
  },
  {
   "cell_type": "code",
   "execution_count": 522,
   "metadata": {},
   "outputs": [
    {
     "data": {
      "text/html": [
       "<div>\n",
       "<style scoped>\n",
       "    .dataframe tbody tr th:only-of-type {\n",
       "        vertical-align: middle;\n",
       "    }\n",
       "\n",
       "    .dataframe tbody tr th {\n",
       "        vertical-align: top;\n",
       "    }\n",
       "\n",
       "    .dataframe thead th {\n",
       "        text-align: right;\n",
       "    }\n",
       "</style>\n",
       "<table border=\"1\" class=\"dataframe\">\n",
       "  <thead>\n",
       "    <tr style=\"text-align: right;\">\n",
       "      <th></th>\n",
       "      <th>Id</th>\n",
       "      <th>SalePrice</th>\n",
       "    </tr>\n",
       "  </thead>\n",
       "  <tbody>\n",
       "    <tr>\n",
       "      <th>0</th>\n",
       "      <td>1461</td>\n",
       "      <td>168685.082067</td>\n",
       "    </tr>\n",
       "    <tr>\n",
       "      <th>1</th>\n",
       "      <td>1462</td>\n",
       "      <td>181837.234733</td>\n",
       "    </tr>\n",
       "    <tr>\n",
       "      <th>2</th>\n",
       "      <td>1463</td>\n",
       "      <td>190911.522735</td>\n",
       "    </tr>\n",
       "    <tr>\n",
       "      <th>3</th>\n",
       "      <td>1464</td>\n",
       "      <td>171192.046866</td>\n",
       "    </tr>\n",
       "    <tr>\n",
       "      <th>4</th>\n",
       "      <td>1465</td>\n",
       "      <td>180041.256939</td>\n",
       "    </tr>\n",
       "    <tr>\n",
       "      <th>...</th>\n",
       "      <td>...</td>\n",
       "      <td>...</td>\n",
       "    </tr>\n",
       "    <tr>\n",
       "      <th>1454</th>\n",
       "      <td>2915</td>\n",
       "      <td>136925.686934</td>\n",
       "    </tr>\n",
       "    <tr>\n",
       "      <th>1455</th>\n",
       "      <td>2916</td>\n",
       "      <td>153850.450175</td>\n",
       "    </tr>\n",
       "    <tr>\n",
       "      <th>1456</th>\n",
       "      <td>2917</td>\n",
       "      <td>170716.705430</td>\n",
       "    </tr>\n",
       "    <tr>\n",
       "      <th>1457</th>\n",
       "      <td>2918</td>\n",
       "      <td>171391.697988</td>\n",
       "    </tr>\n",
       "    <tr>\n",
       "      <th>1458</th>\n",
       "      <td>2919</td>\n",
       "      <td>183281.596913</td>\n",
       "    </tr>\n",
       "  </tbody>\n",
       "</table>\n",
       "<p>1459 rows × 2 columns</p>\n",
       "</div>"
      ],
      "text/plain": [
       "        Id      SalePrice\n",
       "0     1461  168685.082067\n",
       "1     1462  181837.234733\n",
       "2     1463  190911.522735\n",
       "3     1464  171192.046866\n",
       "4     1465  180041.256939\n",
       "...    ...            ...\n",
       "1454  2915  136925.686934\n",
       "1455  2916  153850.450175\n",
       "1456  2917  170716.705430\n",
       "1457  2918  171391.697988\n",
       "1458  2919  183281.596913\n",
       "\n",
       "[1459 rows x 2 columns]"
      ]
     },
     "execution_count": 522,
     "metadata": {},
     "output_type": "execute_result"
    }
   ],
   "source": [
    "submission"
   ]
  },
  {
   "cell_type": "code",
   "execution_count": 248,
   "metadata": {},
   "outputs": [],
   "source": [
    "def feature_impt_list(lgb, df_cols, importance_type = 'split'):\n",
    "    feature_impt = lgb.booster_.feature_importance(importance_type = importance_type)\n",
    "    impt_feature_names = itemgetter(*np.argsort(feature_impt)[::-1])(df_cols)\n",
    "    impt_feature_score = itemgetter(*np.argsort(feature_impt)[::-1])(feature_impt)\n",
    "    if importance_type == 'split':\n",
    "        for i, (name, score) in enumerate(zip(impt_feature_names, impt_feature_score)):\n",
    "            print(f'{i+1}. {name:30s} : {score:8d}')\n",
    "    if importance_type == 'gain':\n",
    "        for i, (name, score) in enumerate(zip(impt_feature_names, impt_feature_score)):\n",
    "            print(f'{i+1}. {name:30s} : {score:10.2f}')"
   ]
  },
  {
   "cell_type": "markdown",
   "metadata": {},
   "source": [
    "- ### Keep only top 100 important features in 'split' and also in 'gain', and take the union of those"
   ]
  },
  {
   "cell_type": "code",
   "execution_count": null,
   "metadata": {},
   "outputs": [],
   "source": [
    "feature_impt_list(lgb_reg, df1.columns, 'gain')"
   ]
  },
  {
   "cell_type": "code",
   "execution_count": 250,
   "metadata": {},
   "outputs": [],
   "source": [
    "impt_ftr_gain_idx = np.argsort(lgb_reg.booster_.feature_importance(importance_type='gain'))[::-1][:200]"
   ]
  },
  {
   "cell_type": "code",
   "execution_count": 251,
   "metadata": {},
   "outputs": [],
   "source": [
    "impt_ftr_split_idx = np.argsort(lgb_reg.booster_.feature_importance(importance_type='split'))[::-1][0:200]"
   ]
  },
  {
   "cell_type": "code",
   "execution_count": 252,
   "metadata": {},
   "outputs": [],
   "source": [
    "important_feature_idx = np.union1d(impt_ftr_gain_idx,impt_ftr_split_idx)"
   ]
  },
  {
   "cell_type": "code",
   "execution_count": 253,
   "metadata": {},
   "outputs": [],
   "source": [
    "original_feature_names = list(df1.columns)"
   ]
  },
  {
   "cell_type": "code",
   "execution_count": 254,
   "metadata": {},
   "outputs": [],
   "source": [
    "important_features = list(itemgetter(*important_feature_idx)(original_feature_names)) "
   ]
  },
  {
   "cell_type": "code",
   "execution_count": 255,
   "metadata": {},
   "outputs": [],
   "source": [
    "df1_impt = df1[important_features]\n",
    "test1_impt = test1[important_features]"
   ]
  },
  {
   "cell_type": "code",
   "execution_count": 260,
   "metadata": {},
   "outputs": [],
   "source": [
    "lgb_reg = lgb.LGBMRegressor(num_leaves = 100, n_estimators=10000,\n",
    "                        n_jobs=-1,\n",
    "                        max_depth=5,\n",
    "                        learning_rate=0.02,\n",
    "                        subsample=0.5,\n",
    "                        colsample_bytree=0.9,\n",
    "                        min_data_in_leaf = 10,\n",
    "#                         min_child_weight = 0.03454472573214212,\n",
    "#                         reg_alpha= 0.3299927210061127,\n",
    "#                         reg_lambda= 0.3885237330340494,\n",
    "                        min_child_weight = 0.03454472573214212,\n",
    "                        reg_alpha= 0.3,\n",
    "                        reg_lambda= 0.3,  \n",
    "                        subsample_for_bin = 200000,\n",
    "                        min_split_gain = 0)"
   ]
  },
  {
   "cell_type": "code",
   "execution_count": 261,
   "metadata": {},
   "outputs": [],
   "source": [
    "rs = ShuffleSplit(n_splits=1, test_size=.2)\n",
    "df1X = df1_impt\n",
    "for train_idx, val_idx in rs.split(df1X, df[target]):\n",
    "    trainX, trainY = df1X.iloc[train_idx], df[target].iloc[train_idx]\n",
    "    valX, valY = df1X.iloc[val_idx], df[target].iloc[val_idx]"
   ]
  },
  {
   "cell_type": "code",
   "execution_count": 262,
   "metadata": {},
   "outputs": [
    {
     "name": "stdout",
     "output_type": "stream",
     "text": [
      "Training until validation scores don't improve for 200 rounds\n",
      "[100]\ttrain's l2: 1.82742e+08\ttrain's RMSLE: 0.0713064\tval's l2: 1.73758e+08\tval's RMSLE: 0.0661245\n",
      "[200]\ttrain's l2: 4.34453e+07\ttrain's RMSLE: 0.0204113\tval's l2: 4.10477e+07\tval's RMSLE: 0.022596\n",
      "[300]\ttrain's l2: 2.41257e+07\ttrain's RMSLE: 0.0151974\tval's l2: 2.74521e+07\tval's RMSLE: 0.0214517\n",
      "[400]\ttrain's l2: 1.46985e+07\ttrain's RMSLE: 0.0136034\tval's l2: 2.05206e+07\tval's RMSLE: 0.0214405\n",
      "[500]\ttrain's l2: 9.34864e+06\ttrain's RMSLE: 0.0125976\tval's l2: 1.71944e+07\tval's RMSLE: 0.0216725\n",
      "Early stopping, best iteration is:\n",
      "[357]\ttrain's l2: 1.80849e+07\ttrain's RMSLE: 0.0142719\tval's l2: 2.27102e+07\tval's RMSLE: 0.0213381\n"
     ]
    },
    {
     "data": {
      "text/plain": [
       "LGBMRegressor(boosting_type='gbdt', class_weight=None, colsample_bytree=0.9,\n",
       "              importance_type='split', learning_rate=0.02, max_depth=5,\n",
       "              min_child_samples=20, min_child_weight=0.03454472573214212,\n",
       "              min_data_in_leaf=10, min_split_gain=0, n_estimators=10000,\n",
       "              n_jobs=-1, num_leaves=100, objective=None, random_state=None,\n",
       "              reg_alpha=0.3, reg_lambda=0.3, silent=True, subsample=0.5,\n",
       "              subsample_for_bin=200000, subsample_freq=0)"
      ]
     },
     "execution_count": 262,
     "metadata": {},
     "output_type": "execute_result"
    }
   ],
   "source": [
    "features = list(df1X.columns)\n",
    "lgb_reg.fit(trainX[features], trainY,\\\n",
    "           eval_metric = rmsle,\\\n",
    "            eval_set = [(trainX[features], trainY),(valX[features],valY)],\\\n",
    "            eval_names = ['train','val'], verbose=100, early_stopping_rounds=200)"
   ]
  },
  {
   "cell_type": "code",
   "execution_count": null,
   "metadata": {},
   "outputs": [],
   "source": []
  }
 ],
 "metadata": {
  "kernelspec": {
   "display_name": "Python 3",
   "language": "python",
   "name": "python3"
  },
  "language_info": {
   "codemirror_mode": {
    "name": "ipython",
    "version": 3
   },
   "file_extension": ".py",
   "mimetype": "text/x-python",
   "name": "python",
   "nbconvert_exporter": "python",
   "pygments_lexer": "ipython3",
   "version": "3.7.4"
  }
 },
 "nbformat": 4,
 "nbformat_minor": 2
}
